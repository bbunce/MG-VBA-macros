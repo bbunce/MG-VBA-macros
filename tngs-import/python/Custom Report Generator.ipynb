{
 "cells": [
  {
   "cell_type": "markdown",
   "metadata": {},
   "source": [
    "# Custom Report Generator\n",
    "### Takes in tNGS outfile and sequencing load file to create 'custom report' file to be able to import into Starlims"
   ]
  },
  {
   "cell_type": "code",
   "execution_count": 1,
   "metadata": {},
   "outputs": [],
   "source": [
    "import pandas as pd\n",
    "import os"
   ]
  },
  {
   "cell_type": "code",
   "execution_count": 2,
   "metadata": {},
   "outputs": [],
   "source": [
    "tngs = pd.read_csv('../output/tNGS_export.csv')\n",
    "seq = pd.read_csv('../data/seq1.csv',delimiter=\"\\t\")\n",
    "tngs.columns = [c.replace(' ', '_') for c in tngs.columns]\n",
    "seq.columns = [c.replace(' ', '_') for c in seq.columns]"
   ]
  },
  {
   "cell_type": "code",
   "execution_count": 4,
   "metadata": {},
   "outputs": [],
   "source": [
    "# Starlims sequencing'NGS' workbatch number\n",
    "workbatchNo = seq['Container_Name'][0]"
   ]
  },
  {
   "cell_type": "code",
   "execution_count": 5,
   "metadata": {},
   "outputs": [],
   "source": [
    "# Get starlims 'amplicon'\n",
    "star_amplicon = \"_NGS_\""
   ]
  },
  {
   "cell_type": "code",
   "execution_count": 6,
   "metadata": {},
   "outputs": [],
   "source": [
    "# need to get a dictionary of all sample ID from sequencing load file as that represents what can get \n",
    "# imported back into Starlims. Mostly important for the ddPCR mutation details import\n",
    "samples = list(seq['Plate_ID'].unique())\n",
    "del samples[:4]\n",
    "samples = [sample[:9] for sample in samples]"
   ]
  },
  {
   "cell_type": "code",
   "execution_count": 7,
   "metadata": {},
   "outputs": [],
   "source": [
    "# new column with sample id and mutsurveyor variant\n",
    "tngs['id_variant'] = tngs['Folder_number'] + \"_\" + tngs['MutSurveyor']\n",
    "tngs_var = list(tngs['id_variant'].unique())\n",
    "tngs_var = [var for var in tngs_var if str(var) != 'nan']"
   ]
  },
  {
   "cell_type": "code",
   "execution_count": 8,
   "metadata": {},
   "outputs": [],
   "source": [
    "# create a dictionary with sample id's and associated variants\n",
    "sample_vars = {k:[] for k in samples}\n",
    "for sample in samples:\n",
    "    for variant in tngs_var:\n",
    "        if sample == variant[:9]:\n",
    "            try:\n",
    "                sample_vars[sample].append(variant[10:])\n",
    "            except:\n",
    "                sample_vars[sample] = [variant[10:]]"
   ]
  },
  {
   "cell_type": "code",
   "execution_count": 10,
   "metadata": {},
   "outputs": [],
   "source": [
    "# create custom report template\n",
    "def create_custom_report():\n",
    "    f = open(f'{os.getcwd()}/../output/custom_report.txt', 'w+')\n",
    "    header = \"Warning!\\nSample Name\\tReference Name\\tLane Quality\\tROI Coverage\\t#nts below threshold\\tQuality ROI\\tVariant1\\tVariant3\\tVariant3\\tVariant4\\n\"\n",
    "    body = \"\"\n",
    "    for sample in sample_vars:\n",
    "        no_vars = len(sample_vars[sample])\n",
    "        sample_id = sample + star_amplicon + workbatchNo\n",
    "        if no_vars == 1:\n",
    "            body += f\"{sample_id}\\t\\t\\t\\t\\t\\t{sample_vars[sample][0]}\\n\"\n",
    "        elif no_vars == 2:\n",
    "            body += f\"{sample_id}\\t\\t\\t\\t\\t\\t{sample_vars[sample][0]}\\t{sample_vars[sample][1]}\\n\"        \n",
    "        elif no_vars == 3:\n",
    "            body += f\"{sample_id}\\t\\t\\t\\t\\t\\t{sample_vars[sample][0]}\\t{sample_vars[sample][1]}\\t{sample_vars[sample][2]}\\n\" \n",
    "        elif no_vars == 4:\n",
    "            body += f\"{sample_id}\\t\\t\\t\\t\\t\\t{sample_vars[sample][0]}\\t{sample_vars[sample][1]}\\t{sample_vars[sample][2]}\\t{sample_vars[sample][3]}\\n\"\n",
    "        else:\n",
    "            body += f\"{sample_id}\\t\\t\\t\\t\\t\\t\\t\\t\\t\\t\\n\"\n",
    "    f.write(header)\n",
    "    f.write(body)\n",
    "    f.close()\n",
    "\n",
    "create_custom_report()"
   ]
  },
  {
   "cell_type": "code",
   "execution_count": null,
   "metadata": {},
   "outputs": [],
   "source": [
    "# create mutation details 'ddPCR' import file\n",
    "\n",
    "def create_mut_details():\n",
    "    pass\n"
   ]
  }
 ],
 "metadata": {
  "kernelspec": {
   "display_name": "Python 3",
   "language": "python",
   "name": "python3"
  },
  "language_info": {
   "codemirror_mode": {
    "name": "ipython",
    "version": 3
   },
   "file_extension": ".py",
   "mimetype": "text/x-python",
   "name": "python",
   "nbconvert_exporter": "python",
   "pygments_lexer": "ipython3",
   "version": "3.6.9"
  }
 },
 "nbformat": 4,
 "nbformat_minor": 2
}
